{
 "cells": [
  {
   "cell_type": "code",
   "execution_count": 1,
   "metadata": {
    "editable": true,
    "slideshow": {
     "slide_type": ""
    },
    "tags": [],
    "vscode": {
     "languageId": "python"
    }
   },
   "outputs": [
    {
     "name": "stdout",
     "output_type": "stream",
     "text": [
      "35\n",
      "35\n"
     ]
    }
   ],
   "source": [
    "def Evaluate(x):\n",
    "    return x^3 + x + 5\n",
    "\n",
    "def EvaluateFlatten(x):\n",
    "    v1 = x * x\n",
    "    v2 = v1 * x\n",
    "    out = v2 + x + 5\n",
    "    return out\n",
    "\n",
    "print(Evaluate(3))\n",
    "print(EvaluateFlatten(3))"
   ]
  },
  {
   "cell_type": "code",
   "execution_count": 11,
   "metadata": {
    "vscode": {
     "languageId": "python"
    }
   },
   "outputs": [],
   "source": [
    "F41 = GF(41)\n",
    "L = Matrix(F41, [\n",
    "\t[0,1,0,0,0,0],\n",
    "    [0,0,0,1,0,0],\n",
    "    [0,1,0,0,1,0],\n",
    "\t[5,0,0,0,0,1]]\n",
    ")\n",
    "R = Matrix(F41, [\n",
    "\t[0, 1, 0, 0, 0, 0],\n",
    "\t[0, 1, 0, 0, 0, 0],\n",
    "\t[1, 0, 0, 0, 0, 0],\n",
    "\t[1, 0, 0, 0, 0, 0]]\n",
    ")\n",
    "O = Matrix(F41, [\n",
    "\t[0, 0, 0, 1, 0, 0],\n",
    "\t[0, 0, 0, 0, 1, 0],\n",
    "\t[0, 0, 0, 0, 0, 1],\n",
    "\t[0, 0, 1, 0, 0, 0]]\n",
    ")"
   ]
  },
  {
   "cell_type": "code",
   "execution_count": 13,
   "metadata": {
    "vscode": {
     "languageId": "python"
    }
   },
   "outputs": [
    {
     "name": "stdout",
     "output_type": "stream",
     "text": [
      "poly [36, 16, 36, 35]\n",
      "poly [8, 16, 5, 13]\n",
      "poly [0, 0, 0, 0]\n",
      "poly [35, 30, 37, 21]\n",
      "poly [4, 34, 24, 20]\n",
      "poly [40, 36, 40, 7]\n",
      "poly [3, 29, 23, 27]\n",
      "poly [39, 12, 18, 14]\n",
      "poly [0, 0, 0, 0]\n",
      "poly [0, 0, 0, 0]\n",
      "poly [0, 0, 0, 0]\n",
      "poly [0, 0, 0, 0]\n",
      "poly [0, 0, 0, 0]\n",
      "poly [0, 0, 0, 0]\n",
      "poly [40, 36, 40, 7]\n",
      "poly [4, 23, 22, 34]\n",
      "poly [35, 30, 37, 21]\n",
      "poly [4, 34, 24, 20]\n"
     ]
    }
   ],
   "source": [
    "R41.<x> = PolynomialRing(F41)\n",
    "\n",
    "M = [L, R, O]\n",
    "\n",
    "PolyM = []\n",
    "\n",
    "for m in M:\n",
    "\tPolyList = []\n",
    "\tfor i in range(m.ncols()):\n",
    "\t\tpoints = []\n",
    "\t\tfor j in range(m.nrows()):\n",
    "\t\t\tpoints.append([j+1, m[j, i]])\n",
    "\n",
    "\t\tPoly = R41.lagrange_polynomial(points).coefficients(sparse=False)\n",
    "\n",
    "\t\tif len(Poly) < m.nrows():\n",
    "\t\t\tdiff = m.nrows() - len(Poly)\n",
    "\t\t\tfor j in range(diff):\n",
    "\t\t\t\tPoly.append(0)\n",
    "\t\tprint(\"poly\", Poly)\n",
    "\t\tPolyList.append(Poly)\n",
    "\n",
    "\tPolyM.append(Matrix(F41, PolyList)) # didn't quite understand this"
   ]
  },
  {
   "cell_type": "code",
   "execution_count": 21,
   "metadata": {
    "vscode": {
     "languageId": "python"
    }
   },
   "outputs": [
    {
     "name": "stdout",
     "output_type": "stream",
     "text": [
      "Lx: 29*x^3 + 18*x^2 + 36*x + 2\n",
      "Rx: 28*x^3 + 36*x^2 + 24*x + 38\n",
      "Ox: 37*x^3 + 37*x^2 + 17*x\n",
      "T: 33*x^6 + 31*x^5 + 15*x^4 + 20*x^3 + 25*x^2 + 5*x + 35\n"
     ]
    }
   ],
   "source": [
    "S = vector(F41, [1, 3, 35, 9, 27, 30]) # solution vector\n",
    "Lx = R41(list(S*PolyM[0]))\n",
    "Rx = R41(list(S*PolyM[1]))\n",
    "Ox = R41(list(S*PolyM[2]))\n",
    "\n",
    "print(\"Lx:\", Lx)\n",
    "print(\"Rx:\", Rx)\n",
    "print(\"Ox:\", Ox)\n",
    "\n",
    "T = Lx*Rx - Ox\n",
    "\n",
    "print(\"T:\", T)"
   ]
  },
  {
   "cell_type": "code",
   "execution_count": 25,
   "metadata": {
    "vscode": {
     "languageId": "python"
    }
   },
   "outputs": [],
   "source": [
    "Z = R41((x-1)*(x-2)*(x-3)*(x-4))\n",
    "H = T.quo_rem(Z)\n",
    "assert(H[1]==0)"
   ]
  }
 ],
 "metadata": {
  "kernelspec": {
   "display_name": "SageMath 10.2",
   "language": "sage",
   "name": "sagemath"
  },
  "language_info": {
   "codemirror_mode": {
    "name": "ipython",
    "version": 3
   },
   "file_extension": ".py",
   "mimetype": "text/x-python",
   "name": "sage",
   "nbconvert_exporter": "python",
   "pygments_lexer": "ipython3",
   "version": "3.11.1"
  }
 },
 "nbformat": 4,
 "nbformat_minor": 4
}
